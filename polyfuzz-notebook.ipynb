{
  "nbformat": 4,
  "nbformat_minor": 0,
  "metadata": {
    "colab": {
      "name": "Polyfuzz.ipynb",
      "provenance": [],
      "collapsed_sections": []
    },
    "kernelspec": {
      "name": "python3",
      "display_name": "Python 3"
    }
  },
  "cells": [
    {
      "cell_type": "markdown",
      "metadata": {
        "id": "zyWse8DcM8B-"
      },
      "source": [
        "# Installation"
      ]
    },
    {
      "cell_type": "code",
      "metadata": {
        "colab": {
          "base_uri": "https://localhost:8080/"
        },
        "id": "DE3hAzVBFk8a",
        "outputId": "5b8df402-0917-4741-c8e4-08c8ec33fa9e"
      },
      "source": [
        "!pip install polyfuzz[all]"
      ],
      "execution_count": null,
      "outputs": [
        {
          "output_type": "stream",
          "text": [
            "Requirement already satisfied: polyfuzz[all] in /usr/local/lib/python3.6/dist-packages (0.2.1)\n",
            "Requirement already satisfied: tqdm>=4.41.1 in /usr/local/lib/python3.6/dist-packages (from polyfuzz[all]) (4.41.1)\n",
            "Requirement already satisfied: pandas>=0.25.3 in /usr/local/lib/python3.6/dist-packages (from polyfuzz[all]) (1.1.4)\n",
            "Requirement already satisfied: scikit-learn>=0.22.2.post1 in /usr/local/lib/python3.6/dist-packages (from polyfuzz[all]) (0.22.2.post1)\n",
            "Requirement already satisfied: joblib>=0.14.0 in /usr/local/lib/python3.6/dist-packages (from polyfuzz[all]) (0.17.0)\n",
            "Requirement already satisfied: matplotlib>=3.2.2 in /usr/local/lib/python3.6/dist-packages (from polyfuzz[all]) (3.2.2)\n",
            "Requirement already satisfied: numpy>=1.18.5 in /usr/local/lib/python3.6/dist-packages (from polyfuzz[all]) (1.18.5)\n",
            "Requirement already satisfied: scipy>=1.3.1 in /usr/local/lib/python3.6/dist-packages (from polyfuzz[all]) (1.4.1)\n",
            "Requirement already satisfied: seaborn>=0.11.0 in /usr/local/lib/python3.6/dist-packages (from polyfuzz[all]) (0.11.0)\n",
            "Requirement already satisfied: rapidfuzz>=0.13.1 in /usr/local/lib/python3.6/dist-packages (from polyfuzz[all]) (0.13.4)\n",
            "Requirement already satisfied: flair>=0.6.1.post1; extra == \"all\" in /usr/local/lib/python3.6/dist-packages (from polyfuzz[all]) (0.7)\n",
            "Requirement already satisfied: sparse-dot-topn>=0.2.9; extra == \"all\" in /usr/local/lib/python3.6/dist-packages (from polyfuzz[all]) (0.2.9)\n",
            "Requirement already satisfied: python-dateutil>=2.7.3 in /usr/local/lib/python3.6/dist-packages (from pandas>=0.25.3->polyfuzz[all]) (2.8.1)\n",
            "Requirement already satisfied: pytz>=2017.2 in /usr/local/lib/python3.6/dist-packages (from pandas>=0.25.3->polyfuzz[all]) (2018.9)\n",
            "Requirement already satisfied: cycler>=0.10 in /usr/local/lib/python3.6/dist-packages (from matplotlib>=3.2.2->polyfuzz[all]) (0.10.0)\n",
            "Requirement already satisfied: kiwisolver>=1.0.1 in /usr/local/lib/python3.6/dist-packages (from matplotlib>=3.2.2->polyfuzz[all]) (1.3.1)\n",
            "Requirement already satisfied: pyparsing!=2.0.4,!=2.1.2,!=2.1.6,>=2.0.1 in /usr/local/lib/python3.6/dist-packages (from matplotlib>=3.2.2->polyfuzz[all]) (2.4.7)\n",
            "Requirement already satisfied: mpld3==0.3 in /usr/local/lib/python3.6/dist-packages (from flair>=0.6.1.post1; extra == \"all\"->polyfuzz[all]) (0.3)\n",
            "Requirement already satisfied: sentencepiece<=0.1.91 in /usr/local/lib/python3.6/dist-packages (from flair>=0.6.1.post1; extra == \"all\"->polyfuzz[all]) (0.1.91)\n",
            "Requirement already satisfied: lxml in /usr/local/lib/python3.6/dist-packages (from flair>=0.6.1.post1; extra == \"all\"->polyfuzz[all]) (4.2.6)\n",
            "Requirement already satisfied: regex in /usr/local/lib/python3.6/dist-packages (from flair>=0.6.1.post1; extra == \"all\"->polyfuzz[all]) (2019.12.20)\n",
            "Requirement already satisfied: deprecated>=1.2.4 in /usr/local/lib/python3.6/dist-packages (from flair>=0.6.1.post1; extra == \"all\"->polyfuzz[all]) (1.2.10)\n",
            "Requirement already satisfied: ftfy in /usr/local/lib/python3.6/dist-packages (from flair>=0.6.1.post1; extra == \"all\"->polyfuzz[all]) (5.8)\n",
            "Requirement already satisfied: janome in /usr/local/lib/python3.6/dist-packages (from flair>=0.6.1.post1; extra == \"all\"->polyfuzz[all]) (0.4.1)\n",
            "Requirement already satisfied: bpemb>=0.3.2 in /usr/local/lib/python3.6/dist-packages (from flair>=0.6.1.post1; extra == \"all\"->polyfuzz[all]) (0.3.2)\n",
            "Requirement already satisfied: hyperopt>=0.1.1 in /usr/local/lib/python3.6/dist-packages (from flair>=0.6.1.post1; extra == \"all\"->polyfuzz[all]) (0.1.2)\n",
            "Requirement already satisfied: segtok>=1.5.7 in /usr/local/lib/python3.6/dist-packages (from flair>=0.6.1.post1; extra == \"all\"->polyfuzz[all]) (1.5.10)\n",
            "Requirement already satisfied: gdown in /usr/local/lib/python3.6/dist-packages (from flair>=0.6.1.post1; extra == \"all\"->polyfuzz[all]) (3.6.4)\n",
            "Requirement already satisfied: langdetect in /usr/local/lib/python3.6/dist-packages (from flair>=0.6.1.post1; extra == \"all\"->polyfuzz[all]) (1.0.8)\n",
            "Requirement already satisfied: sqlitedict>=1.6.0 in /usr/local/lib/python3.6/dist-packages (from flair>=0.6.1.post1; extra == \"all\"->polyfuzz[all]) (1.7.0)\n",
            "Requirement already satisfied: transformers<=3.5.1,>=3.5.0 in /usr/local/lib/python3.6/dist-packages (from flair>=0.6.1.post1; extra == \"all\"->polyfuzz[all]) (3.5.1)\n",
            "Requirement already satisfied: gensim<=3.8.3,>=3.4.0 in /usr/local/lib/python3.6/dist-packages (from flair>=0.6.1.post1; extra == \"all\"->polyfuzz[all]) (3.6.0)\n",
            "Requirement already satisfied: tabulate in /usr/local/lib/python3.6/dist-packages (from flair>=0.6.1.post1; extra == \"all\"->polyfuzz[all]) (0.8.7)\n",
            "Requirement already satisfied: torch>=1.1.0 in /usr/local/lib/python3.6/dist-packages (from flair>=0.6.1.post1; extra == \"all\"->polyfuzz[all]) (1.7.0+cu101)\n",
            "Requirement already satisfied: konoha<5.0.0,>=4.0.0 in /usr/local/lib/python3.6/dist-packages (from flair>=0.6.1.post1; extra == \"all\"->polyfuzz[all]) (4.6.2)\n",
            "Requirement already satisfied: setuptools>=18.0 in /usr/local/lib/python3.6/dist-packages (from sparse-dot-topn>=0.2.9; extra == \"all\"->polyfuzz[all]) (50.3.2)\n",
            "Requirement already satisfied: cython>=0.29.15 in /usr/local/lib/python3.6/dist-packages (from sparse-dot-topn>=0.2.9; extra == \"all\"->polyfuzz[all]) (0.29.21)\n",
            "Requirement already satisfied: six>=1.5 in /usr/local/lib/python3.6/dist-packages (from python-dateutil>=2.7.3->pandas>=0.25.3->polyfuzz[all]) (1.15.0)\n",
            "Requirement already satisfied: wrapt<2,>=1.10 in /usr/local/lib/python3.6/dist-packages (from deprecated>=1.2.4->flair>=0.6.1.post1; extra == \"all\"->polyfuzz[all]) (1.12.1)\n",
            "Requirement already satisfied: wcwidth in /usr/local/lib/python3.6/dist-packages (from ftfy->flair>=0.6.1.post1; extra == \"all\"->polyfuzz[all]) (0.2.5)\n",
            "Requirement already satisfied: requests in /usr/local/lib/python3.6/dist-packages (from bpemb>=0.3.2->flair>=0.6.1.post1; extra == \"all\"->polyfuzz[all]) (2.23.0)\n",
            "Requirement already satisfied: pymongo in /usr/local/lib/python3.6/dist-packages (from hyperopt>=0.1.1->flair>=0.6.1.post1; extra == \"all\"->polyfuzz[all]) (3.11.1)\n",
            "Requirement already satisfied: networkx in /usr/local/lib/python3.6/dist-packages (from hyperopt>=0.1.1->flair>=0.6.1.post1; extra == \"all\"->polyfuzz[all]) (2.5)\n",
            "Requirement already satisfied: future in /usr/local/lib/python3.6/dist-packages (from hyperopt>=0.1.1->flair>=0.6.1.post1; extra == \"all\"->polyfuzz[all]) (0.16.0)\n",
            "Requirement already satisfied: filelock in /usr/local/lib/python3.6/dist-packages (from transformers<=3.5.1,>=3.5.0->flair>=0.6.1.post1; extra == \"all\"->polyfuzz[all]) (3.0.12)\n",
            "Requirement already satisfied: protobuf in /usr/local/lib/python3.6/dist-packages (from transformers<=3.5.1,>=3.5.0->flair>=0.6.1.post1; extra == \"all\"->polyfuzz[all]) (3.12.4)\n",
            "Requirement already satisfied: sacremoses in /usr/local/lib/python3.6/dist-packages (from transformers<=3.5.1,>=3.5.0->flair>=0.6.1.post1; extra == \"all\"->polyfuzz[all]) (0.0.43)\n",
            "Requirement already satisfied: dataclasses; python_version < \"3.7\" in /usr/local/lib/python3.6/dist-packages (from transformers<=3.5.1,>=3.5.0->flair>=0.6.1.post1; extra == \"all\"->polyfuzz[all]) (0.8)\n",
            "Requirement already satisfied: tokenizers==0.9.3 in /usr/local/lib/python3.6/dist-packages (from transformers<=3.5.1,>=3.5.0->flair>=0.6.1.post1; extra == \"all\"->polyfuzz[all]) (0.9.3)\n",
            "Requirement already satisfied: packaging in /usr/local/lib/python3.6/dist-packages (from transformers<=3.5.1,>=3.5.0->flair>=0.6.1.post1; extra == \"all\"->polyfuzz[all]) (20.4)\n",
            "Requirement already satisfied: smart-open>=1.2.1 in /usr/local/lib/python3.6/dist-packages (from gensim<=3.8.3,>=3.4.0->flair>=0.6.1.post1; extra == \"all\"->polyfuzz[all]) (3.0.0)\n",
            "Requirement already satisfied: typing-extensions in /usr/local/lib/python3.6/dist-packages (from torch>=1.1.0->flair>=0.6.1.post1; extra == \"all\"->polyfuzz[all]) (3.7.4.3)\n",
            "Requirement already satisfied: overrides==3.0.0 in /usr/local/lib/python3.6/dist-packages (from konoha<5.0.0,>=4.0.0->flair>=0.6.1.post1; extra == \"all\"->polyfuzz[all]) (3.0.0)\n",
            "Requirement already satisfied: certifi>=2017.4.17 in /usr/local/lib/python3.6/dist-packages (from requests->bpemb>=0.3.2->flair>=0.6.1.post1; extra == \"all\"->polyfuzz[all]) (2020.11.8)\n",
            "Requirement already satisfied: urllib3!=1.25.0,!=1.25.1,<1.26,>=1.21.1 in /usr/local/lib/python3.6/dist-packages (from requests->bpemb>=0.3.2->flair>=0.6.1.post1; extra == \"all\"->polyfuzz[all]) (1.24.3)\n",
            "Requirement already satisfied: idna<3,>=2.5 in /usr/local/lib/python3.6/dist-packages (from requests->bpemb>=0.3.2->flair>=0.6.1.post1; extra == \"all\"->polyfuzz[all]) (2.10)\n",
            "Requirement already satisfied: chardet<4,>=3.0.2 in /usr/local/lib/python3.6/dist-packages (from requests->bpemb>=0.3.2->flair>=0.6.1.post1; extra == \"all\"->polyfuzz[all]) (3.0.4)\n",
            "Requirement already satisfied: decorator>=4.3.0 in /usr/local/lib/python3.6/dist-packages (from networkx->hyperopt>=0.1.1->flair>=0.6.1.post1; extra == \"all\"->polyfuzz[all]) (4.4.2)\n",
            "Requirement already satisfied: click in /usr/local/lib/python3.6/dist-packages (from sacremoses->transformers<=3.5.1,>=3.5.0->flair>=0.6.1.post1; extra == \"all\"->polyfuzz[all]) (7.1.2)\n"
          ],
          "name": "stdout"
        }
      ]
    },
    {
      "cell_type": "markdown",
      "metadata": {
        "id": "PxwexpFfM_Xy"
      },
      "source": [
        "# Imports"
      ]
    },
    {
      "cell_type": "code",
      "metadata": {
        "id": "sCwdotFGM--P"
      },
      "source": [
        "from polyfuzz import PolyFuzz\n",
        "from polyfuzz.models import Embeddings\n",
        "from flair.embeddings import TransformerWordEmbeddings"
      ],
      "execution_count": null,
      "outputs": []
    },
    {
      "cell_type": "markdown",
      "metadata": {
        "id": "qa8be5uPNEGe"
      },
      "source": [
        "# Edit Distance based Similarity Score"
      ]
    },
    {
      "cell_type": "code",
      "metadata": {
        "id": "Lkg937M1FpoM"
      },
      "source": [
        "list_1 = [\"apple\", \"amazon\", \"google\"]\n",
        "list_2 = [\"search\", \"juice\", \"forest\"]"
      ],
      "execution_count": null,
      "outputs": []
    },
    {
      "cell_type": "code",
      "metadata": {
        "colab": {
          "base_uri": "https://localhost:8080/"
        },
        "id": "nBWVLPEOIH71",
        "outputId": "77c36460-c7fb-4ee5-d4b8-518255a17890"
      },
      "source": [
        "model = PolyFuzz(\"EditDistance\")\n",
        "model.match(list_1, list_2)"
      ],
      "execution_count": null,
      "outputs": [
        {
          "output_type": "execute_result",
          "data": {
            "text/plain": [
              "<polyfuzz.polyfuzz.PolyFuzz at 0x7fb1d665fac8>"
            ]
          },
          "metadata": {
            "tags": []
          },
          "execution_count": 36
        }
      ]
    },
    {
      "cell_type": "code",
      "metadata": {
        "colab": {
          "base_uri": "https://localhost:8080/",
          "height": 141
        },
        "id": "ui_ExaFpGU8Z",
        "outputId": "d600f4e9-4d1c-4645-ab19-68c4733dd69c"
      },
      "source": [
        "model.get_matches()"
      ],
      "execution_count": null,
      "outputs": [
        {
          "output_type": "execute_result",
          "data": {
            "text/html": [
              "<div>\n",
              "<style scoped>\n",
              "    .dataframe tbody tr th:only-of-type {\n",
              "        vertical-align: middle;\n",
              "    }\n",
              "\n",
              "    .dataframe tbody tr th {\n",
              "        vertical-align: top;\n",
              "    }\n",
              "\n",
              "    .dataframe thead th {\n",
              "        text-align: right;\n",
              "    }\n",
              "</style>\n",
              "<table border=\"1\" class=\"dataframe\">\n",
              "  <thead>\n",
              "    <tr style=\"text-align: right;\">\n",
              "      <th></th>\n",
              "      <th>From</th>\n",
              "      <th>To</th>\n",
              "      <th>Similarity</th>\n",
              "    </tr>\n",
              "  </thead>\n",
              "  <tbody>\n",
              "    <tr>\n",
              "      <th>0</th>\n",
              "      <td>apple</td>\n",
              "      <td>search</td>\n",
              "      <td>0.237500</td>\n",
              "    </tr>\n",
              "    <tr>\n",
              "      <th>1</th>\n",
              "      <td>amazon</td>\n",
              "      <td>search</td>\n",
              "      <td>0.166667</td>\n",
              "    </tr>\n",
              "    <tr>\n",
              "      <th>2</th>\n",
              "      <td>google</td>\n",
              "      <td>forest</td>\n",
              "      <td>0.333333</td>\n",
              "    </tr>\n",
              "  </tbody>\n",
              "</table>\n",
              "</div>"
            ],
            "text/plain": [
              "     From      To  Similarity\n",
              "0   apple  search    0.237500\n",
              "1  amazon  search    0.166667\n",
              "2  google  forest    0.333333"
            ]
          },
          "metadata": {
            "tags": []
          },
          "execution_count": 37
        }
      ]
    },
    {
      "cell_type": "markdown",
      "metadata": {
        "id": "CZimfpXENIm3"
      },
      "source": [
        "# Bert Based Similarity"
      ]
    },
    {
      "cell_type": "code",
      "metadata": {
        "id": "q1Lcfvf4GpQy"
      },
      "source": [
        "embeddings = TransformerWordEmbeddings('bert-base-multilingual-cased')\n",
        "bert = Embeddings(embeddings)"
      ],
      "execution_count": null,
      "outputs": []
    },
    {
      "cell_type": "code",
      "metadata": {
        "colab": {
          "base_uri": "https://localhost:8080/"
        },
        "id": "n9PfvfSPGzRF",
        "outputId": "928c7cd8-d186-4acb-f810-d125e5d3fc39"
      },
      "source": [
        "bert_model = PolyFuzz(bert)\n",
        "bert_model.match(list_1, list_2)"
      ],
      "execution_count": null,
      "outputs": [
        {
          "output_type": "execute_result",
          "data": {
            "text/plain": [
              "<polyfuzz.polyfuzz.PolyFuzz at 0x7fb1d3f43828>"
            ]
          },
          "metadata": {
            "tags": []
          },
          "execution_count": 39
        }
      ]
    },
    {
      "cell_type": "code",
      "metadata": {
        "colab": {
          "base_uri": "https://localhost:8080/",
          "height": 141
        },
        "id": "WzNu4gV6G1Tl",
        "outputId": "7d284939-14da-4df8-f5a0-dccffa9e058b"
      },
      "source": [
        "bert_model.get_matches()"
      ],
      "execution_count": null,
      "outputs": [
        {
          "output_type": "execute_result",
          "data": {
            "text/html": [
              "<div>\n",
              "<style scoped>\n",
              "    .dataframe tbody tr th:only-of-type {\n",
              "        vertical-align: middle;\n",
              "    }\n",
              "\n",
              "    .dataframe tbody tr th {\n",
              "        vertical-align: top;\n",
              "    }\n",
              "\n",
              "    .dataframe thead th {\n",
              "        text-align: right;\n",
              "    }\n",
              "</style>\n",
              "<table border=\"1\" class=\"dataframe\">\n",
              "  <thead>\n",
              "    <tr style=\"text-align: right;\">\n",
              "      <th></th>\n",
              "      <th>From</th>\n",
              "      <th>To</th>\n",
              "      <th>Similarity</th>\n",
              "    </tr>\n",
              "  </thead>\n",
              "  <tbody>\n",
              "    <tr>\n",
              "      <th>0</th>\n",
              "      <td>apple</td>\n",
              "      <td>juice</td>\n",
              "      <td>0.842288</td>\n",
              "    </tr>\n",
              "    <tr>\n",
              "      <th>1</th>\n",
              "      <td>amazon</td>\n",
              "      <td>forest</td>\n",
              "      <td>0.814500</td>\n",
              "    </tr>\n",
              "    <tr>\n",
              "      <th>2</th>\n",
              "      <td>google</td>\n",
              "      <td>search</td>\n",
              "      <td>0.860197</td>\n",
              "    </tr>\n",
              "  </tbody>\n",
              "</table>\n",
              "</div>"
            ],
            "text/plain": [
              "     From      To  Similarity\n",
              "0   apple   juice    0.842288\n",
              "1  amazon  forest    0.814500\n",
              "2  google  search    0.860197"
            ]
          },
          "metadata": {
            "tags": []
          },
          "execution_count": 40
        }
      ]
    }
  ]
}